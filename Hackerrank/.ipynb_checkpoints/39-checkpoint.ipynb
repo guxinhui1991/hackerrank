{
 "cells": [
  {
   "cell_type": "code",
   "execution_count": 39,
   "metadata": {},
   "outputs": [],
   "source": [
    "class Solution:\n",
    "    def search_path(self, candidates, target, index, cur_path, res):\n",
    "        if target == 0:\n",
    "            res.append(cur_path)\n",
    "            print('Yes')\n",
    "            return\n",
    "\n",
    "        if target <candidates[0]:\n",
    "            return \n",
    "        \n",
    "        for i in range(index, len(candidates)):\n",
    "            target_new = target - candidates[i]\n",
    "            self.search_path(candidates, target_new, i, cur_path+[candidates[i]], res)\n",
    "\n",
    "\n",
    "    def combinationSum(self, candidates, target):\n",
    "        res = []\n",
    "        candidates = sorted(candidates)        \n",
    "        self.search_path(candidates, target, 0, [], res)\n",
    "        return res\n",
    "\n",
    "\n",
    "    "
   ]
  },
  {
   "cell_type": "code",
   "execution_count": 40,
   "metadata": {},
   "outputs": [
    {
     "name": "stdout",
     "output_type": "stream",
     "text": [
      "Yes\n",
      "Yes\n"
     ]
    },
    {
     "data": {
      "text/plain": [
       "[[2, 2, 3], [7]]"
      ]
     },
     "execution_count": 40,
     "metadata": {},
     "output_type": "execute_result"
    }
   ],
   "source": [
    "candidates = [2,3,6,7]\n",
    "target = 7\n",
    "Solution().combinationSum(candidates, target)"
   ]
  },
  {
   "cell_type": "code",
   "execution_count": null,
   "metadata": {},
   "outputs": [],
   "source": []
  }
 ],
 "metadata": {
  "kernelspec": {
   "display_name": "Python 3",
   "language": "python",
   "name": "python3"
  },
  "language_info": {
   "codemirror_mode": {
    "name": "ipython",
    "version": 3
   },
   "file_extension": ".py",
   "mimetype": "text/x-python",
   "name": "python",
   "nbconvert_exporter": "python",
   "pygments_lexer": "ipython3",
   "version": "3.6.3"
  }
 },
 "nbformat": 4,
 "nbformat_minor": 2
}
