{
 "cells": [
  {
   "cell_type": "code",
   "execution_count": null,
   "metadata": {},
   "outputs": [],
   "source": [
    "def groupAnagrams(self, strs):\n",
    "    \"\"\"\n",
    "    :type strs: List[str]\n",
    "    :rtype: List[List[str]]\n",
    "    \"\"\"\n",
    "    strs = set()\n",
    "    for i in range(len(strs)):\n",
    "        for j in "
   ]
  },
  {
   "cell_type": "code",
   "execution_count": null,
   "metadata": {},
   "outputs": [],
   "source": [
    "str"
   ]
  },
  {
   "cell_type": "code",
   "execution_count": null,
   "metadata": {},
   "outputs": [],
   "source": [
    "if __name__ == \"__main__\":\n",
    "    w = [\"eat\", \"tea\", \"tan\", \"ate\", \"nat\", \"bat\"]\n",
    "    print(longest_chain(w))\n",
    "    w = [ \"bdcafg\", \"bdcaf\", \"a\",  \"b\",  \"ba\", \"bca\", \"bda\", \"bdca\" ]\n",
    "    print(longest_chain(w))"
   ]
  }
 ],
 "metadata": {
  "kernelspec": {
   "display_name": "Python 3",
   "language": "python",
   "name": "python3"
  },
  "language_info": {
   "codemirror_mode": {
    "name": "ipython",
    "version": 3
   },
   "file_extension": ".py",
   "mimetype": "text/x-python",
   "name": "python",
   "nbconvert_exporter": "python",
   "pygments_lexer": "ipython3",
   "version": "3.6.3"
  }
 },
 "nbformat": 4,
 "nbformat_minor": 2
}
