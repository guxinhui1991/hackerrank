{
 "cells": [
  {
   "cell_type": "code",
   "execution_count": 1,
   "metadata": {},
   "outputs": [
    {
     "name": "stdout",
     "output_type": "stream",
     "text": [
      "4\n",
      "6\n"
     ]
    }
   ],
   "source": [
    "def longest_chain(w):\n",
    "    words = set()\n",
    "    for word in w:\n",
    "        words.add(word)\n",
    "    max_chain = 0\n",
    "    for word in words:\n",
    "        if len(word) <= max_chain: # skip word if it cannot be greater than max_chain\n",
    "            continue\n",
    "        max_candidate = find_longest_chain(word, words, 0, [ 0 ])\n",
    "        max_chain = max(max_candidate, max_chain)\n",
    "    return max_chain\n",
    "\n",
    "def find_longest_chain(word, words, current_chain, max_chain):\n",
    "    if word not in words: # set: O(1) --> better than list: O(n)\n",
    "        return 0\n",
    "    current_chain += 1\n",
    "    max_chain[0] = current_chain\n",
    "    for i in range(len(word)):\n",
    "        new_word = word[:i] + word[i+1:]\n",
    "        find_longest_chain(new_word, words, current_chain, max_chain)\n",
    "    return max_chain[0]\n"
   ]
  },
  {
   "cell_type": "code",
   "execution_count": 104,
   "metadata": {},
   "outputs": [],
   "source": [
    "def longestChain(words):\n",
    "    res_chain = 0\n",
    "    if len(words)==0: return res_chain\n",
    "    words = sorted(words, key=len, reverse=True)\n",
    "    \n",
    "    for i in range(len(words)):\n",
    "        word = words[i]\n",
    "        if(len(word)<=res_chain):\n",
    "            continue;\n",
    "        res_chain = max(find_chain_length(word, words, 0), res_chain)\n",
    "    return res_chain\n",
    "\n",
    "def find_chain_length(word, words, curr_chain):\n",
    "    if(word not in words):\n",
    "        return 0\n",
    "    \n",
    "    curr_chain = curr_chain + 1\n",
    "    max_length = [curr_chain]*len(word)\n",
    "    for i in range(len(word)):\n",
    "        new_word = word[:i] + word[i+1:]\n",
    "        max_length[i] = find_chain_length(new_word, words, curr_chain)\n",
    "        \n",
    "    if(max(max_length) > curr_chain):\n",
    "        curr_chain = max(max_length)\n",
    "    return curr_chain\n",
    "\n",
    "\n"
   ]
  },
  {
   "cell_type": "code",
   "execution_count": 106,
   "metadata": {},
   "outputs": [
    {
     "data": {
      "text/plain": [
       "3"
      ]
     },
     "execution_count": 106,
     "metadata": {},
     "output_type": "execute_result"
    }
   ],
   "source": [
    "w = [ \"a\",  \"bz\", \"ab\", \"abc\", \"basdfca\", \"bdsdfa\", \"bdcsdfa\"]\n",
    "find_chain_length('abc', w, 0)"
   ]
  },
  {
   "cell_type": "code",
   "execution_count": 107,
   "metadata": {},
   "outputs": [
    {
     "data": {
      "text/plain": [
       "3"
      ]
     },
     "execution_count": 107,
     "metadata": {},
     "output_type": "execute_result"
    }
   ],
   "source": [
    "longestChain(w)"
   ]
  },
  {
   "cell_type": "code",
   "execution_count": 131,
   "metadata": {},
   "outputs": [],
   "source": [
    "def longestChain(words):\n",
    "    res_chain = 0\n",
    "    if len(words)==0: \n",
    "        return 0\n",
    "    words = sorted(words, key=len)\n",
    "    \n",
    "    max_length = {}\n",
    "    for i in range(len(words)):\n",
    "        word = words[i]\n",
    "        max_length[word] = 1\n",
    "        \n",
    "        for j in range(len(word)):\n",
    "            new_word = word[:j] + word[j+1:]\n",
    "            if new_word in max_length and max_length[new_word]+1>max_length[word]:\n",
    "                max_length[word] = max_length[new_word]+1\n",
    "        res_chain = max(max_length[word], res_chain)\n",
    "        \n",
    "    return res_chain"
   ]
  },
  {
   "cell_type": "code",
   "execution_count": 132,
   "metadata": {},
   "outputs": [
    {
     "name": "stdout",
     "output_type": "stream",
     "text": [
      " {'a': 1}\n",
      " {'a': 1, 'b': 1}\n",
      "a {'a': 1, 'b': 1, 'ba': 1}\n",
      "b {'a': 1, 'b': 1, 'ba': 2}\n",
      "ca {'a': 1, 'b': 1, 'ba': 2, 'bca': 1}\n",
      "ba {'a': 1, 'b': 1, 'ba': 2, 'bca': 1}\n",
      "bc {'a': 1, 'b': 1, 'ba': 2, 'bca': 3}\n",
      "da {'a': 1, 'b': 1, 'ba': 2, 'bca': 3, 'bda': 1}\n",
      "ba {'a': 1, 'b': 1, 'ba': 2, 'bca': 3, 'bda': 1}\n",
      "bd {'a': 1, 'b': 1, 'ba': 2, 'bca': 3, 'bda': 3}\n",
      "dca {'a': 1, 'b': 1, 'ba': 2, 'bca': 3, 'bda': 3, 'bdca': 1}\n",
      "bca {'a': 1, 'b': 1, 'ba': 2, 'bca': 3, 'bda': 3, 'bdca': 1}\n",
      "bda {'a': 1, 'b': 1, 'ba': 2, 'bca': 3, 'bda': 3, 'bdca': 4}\n",
      "bdc {'a': 1, 'b': 1, 'ba': 2, 'bca': 3, 'bda': 3, 'bdca': 4}\n",
      "4\n"
     ]
    }
   ],
   "source": [
    "w = [ \"a\",  \"b\",  \"ba\", \"bca\", \"bda\", \"bdca\" ]\n",
    "print(longestChain(w))"
   ]
  },
  {
   "cell_type": "code",
   "execution_count": 110,
   "metadata": {},
   "outputs": [
    {
     "data": {
      "text/plain": [
       "'sdf'"
      ]
     },
     "execution_count": 110,
     "metadata": {},
     "output_type": "execute_result"
    }
   ],
   "source": [
    "x='asdf'\n",
    "x[:0]+x[1:]"
   ]
  },
  {
   "cell_type": "code",
   "execution_count": null,
   "metadata": {},
   "outputs": [],
   "source": []
  }
 ],
 "metadata": {
  "kernelspec": {
   "display_name": "Python 3",
   "language": "python",
   "name": "python3"
  },
  "language_info": {
   "codemirror_mode": {
    "name": "ipython",
    "version": 3
   },
   "file_extension": ".py",
   "mimetype": "text/x-python",
   "name": "python",
   "nbconvert_exporter": "python",
   "pygments_lexer": "ipython3",
   "version": "3.6.3"
  }
 },
 "nbformat": 4,
 "nbformat_minor": 2
}
