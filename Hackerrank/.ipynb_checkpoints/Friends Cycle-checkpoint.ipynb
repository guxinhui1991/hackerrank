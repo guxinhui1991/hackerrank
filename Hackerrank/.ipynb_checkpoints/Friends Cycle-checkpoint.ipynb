{
 "cells": [
  {
   "cell_type": "code",
   "execution_count": 4,
   "metadata": {},
   "outputs": [],
   "source": [
    "def findCircleNum(friends):\n",
    "    if(len(friends) == 0):\n",
    "        return 0\n",
    "    s = set(range(len(M)))\n",
    "    count = 0\n",
    "    q = []\n",
    "    while True:\n",
    "        if(len(q) == 0):\n",
    "            if s:\n",
    "                q.append(s.pop())\n",
    "                count += 1\n",
    "            else:\n",
    "                break\n",
    "        item, q = q[0], q[1:]\n",
    "        for i in list(s):\n",
    "            if M[item][i]:\n",
    "                q.append(i)\n",
    "                s.remove(i)\n",
    "    return count"
   ]
  },
  {
   "cell_type": "code",
   "execution_count": null,
   "metadata": {},
   "outputs": [],
   "source": [
    "def findCircleNum(self, friends):\n",
    "    \"\"\"\n",
    "    :type M: List[List[int]]\n",
    "    :rtype: int\n",
    "    \"\"\"\n",
    "    def dfs(node):\n",
    "        visited.add(node)\n",
    "        for friend in xrange(len(friends)):\n",
    "            if friends[node][friend] and friend not in visited:\n",
    "                dfs(friend)\n",
    "\n",
    "    circle = 0\n",
    "    visited = set()\n",
    "    for node in xrange(len(friends)):\n",
    "        if node not in visited:\n",
    "            dfs(node)\n",
    "            circle += 1\n",
    "    return circle"
   ]
  },
  {
   "cell_type": "code",
   "execution_count": 5,
   "metadata": {},
   "outputs": [],
   "source": [
    "def friendCircles(friends):\n",
    "    def find(node):\n",
    "        if circles[node]==node:\n",
    "            return node\n",
    "        root = find(circles[node])\n",
    "        circles[node] = root\n",
    "        return root\n",
    "\n",
    "    n = len(friends)\n",
    "    circles = {x:x for x in range(n)}\n",
    "    num = n\n",
    "    for i in range(n):\n",
    "        for j in range(i, n):\n",
    "            if i!=j and friends[i][j]=='Y' and find(i)!=find(j):\n",
    "                circles[find(i)] = find(j)   \n",
    "\n",
    "    return sum([1 for k, v in circles.items() if k == v])"
   ]
  },
  {
   "cell_type": "code",
   "execution_count": null,
   "metadata": {},
   "outputs": [],
   "source": []
  }
 ],
 "metadata": {
  "kernelspec": {
   "display_name": "Python 3",
   "language": "python",
   "name": "python3"
  },
  "language_info": {
   "codemirror_mode": {
    "name": "ipython",
    "version": 3
   },
   "file_extension": ".py",
   "mimetype": "text/x-python",
   "name": "python",
   "nbconvert_exporter": "python",
   "pygments_lexer": "ipython3",
   "version": "3.6.3"
  }
 },
 "nbformat": 4,
 "nbformat_minor": 2
}
