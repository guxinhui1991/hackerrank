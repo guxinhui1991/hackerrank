{
 "cells": [
  {
   "cell_type": "code",
   "execution_count": 66,
   "metadata": {},
   "outputs": [],
   "source": [
    "class Solution:\n",
    "    def search_path(self, candidates, target, index, cur_path, res):\n",
    "        if target == 0:\n",
    "            res.append(cur_path)\n",
    "            return\n",
    "        if len(candidates)==0 or target <candidates[0]:\n",
    "            return \n",
    "        \n",
    "        for i in range(index, len(candidates)):\n",
    "            target_new = target - candidates[i]\n",
    "            candidates_new = candidates[:index] + candidates[index+1:] \n",
    "            self.search_path(candidates_new, target_new, i, cur_path+[candidates[i]], res)\n",
    "\n",
    "\n",
    "    def combinationSum(self, candidates, target):\n",
    "        res = []\n",
    "        candidates = sorted(candidates)        \n",
    "        self.search_path(candidates, target, 0, [], res)\n",
    "        res_clean=[]\n",
    "        for i, k in enumerate(res):\n",
    "            if k in res_clean:\n",
    "                continue\n",
    "            res_clean.append(k)\n",
    "        return res_clean\n",
    "\n",
    "\n",
    "    "
   ]
  },
  {
   "cell_type": "code",
   "execution_count": 67,
   "metadata": {},
   "outputs": [],
   "source": [
    "import timeit\n",
    "candidates = [10,1,2,7,6,1,5]\n",
    "target = 8\n"
   ]
  },
  {
   "cell_type": "code",
   "execution_count": 73,
   "metadata": {},
   "outputs": [
    {
     "name": "stdout",
     "output_type": "stream",
     "text": [
      "0.00010650600233930163\n"
     ]
    }
   ],
   "source": [
    "start = timeit.default_timer()\n",
    "res = Solution().combinationSum(candidates, target)\n",
    "stop = timeit.default_timer()\n",
    "\n",
    "print (stop - start )\n",
    "\n"
   ]
  },
  {
   "cell_type": "code",
   "execution_count": 55,
   "metadata": {},
   "outputs": [
    {
     "data": {
      "text/plain": [
       "[2, 3, 6]"
      ]
     },
     "execution_count": 55,
     "metadata": {},
     "output_type": "execute_result"
    }
   ],
   "source": [
    "candidates = [2,3,6,7]\n",
    "i = 3\n",
    "candidates[:i] + candidates[i+1:] "
   ]
  },
  {
   "cell_type": "code",
   "execution_count": 52,
   "metadata": {},
   "outputs": [
    {
     "name": "stdout",
     "output_type": "stream",
     "text": [
      "0 [1, 1, 6]\n",
      "1 [1, 2, 5]\n",
      "2 [1, 7]\n",
      "3 [1, 2, 5]\n",
      "4 [1, 7]\n",
      "5 [2, 6]\n"
     ]
    }
   ],
   "source": [
    "\n",
    "#    totals[i] = totals.get(k,0) + v\n"
   ]
  },
  {
   "cell_type": "code",
   "execution_count": 71,
   "metadata": {},
   "outputs": [],
   "source": [
    "class Solution2:\n",
    "    def combinationSum2(self, candidates, target):\n",
    "                \n",
    "        def dfs(i, val, path):\n",
    "            while i < len(candidates):\n",
    "                num = candidates[i]\n",
    "                val_ = val + num\n",
    "                path_ = path + [num]\n",
    "                if val_ > target:\n",
    "                    return\n",
    "                elif val_ == target:\n",
    "                    ans.append(path_)\n",
    "                    return                  \n",
    "                dfs(i+1, val_, path_)\n",
    "                while i<len(candidates)-1 and candidates[i]==candidates[i+1]:\n",
    "                    i += 1\n",
    "                i += 1\n",
    "               \n",
    "        candidates = sorted(candidates)\n",
    "        ans = []\n",
    "        dfs(0, 0, [])\n",
    "        return ans"
   ]
  },
  {
   "cell_type": "code",
   "execution_count": 72,
   "metadata": {},
   "outputs": [
    {
     "name": "stdout",
     "output_type": "stream",
     "text": [
      "7.169699892983772e-05\n"
     ]
    }
   ],
   "source": [
    "start = timeit.default_timer()\n",
    "res = Solution2().combinationSum2(candidates, target)\n",
    "stop = timeit.default_timer()\n",
    "\n",
    "print (stop - start )\n",
    "\n",
    "\n"
   ]
  },
  {
   "cell_type": "code",
   "execution_count": null,
   "metadata": {},
   "outputs": [],
   "source": []
  }
 ],
 "metadata": {
  "kernelspec": {
   "display_name": "Python 3",
   "language": "python",
   "name": "python3"
  },
  "language_info": {
   "codemirror_mode": {
    "name": "ipython",
    "version": 3
   },
   "file_extension": ".py",
   "mimetype": "text/x-python",
   "name": "python",
   "nbconvert_exporter": "python",
   "pygments_lexer": "ipython3",
   "version": "3.6.3"
  }
 },
 "nbformat": 4,
 "nbformat_minor": 2
}
