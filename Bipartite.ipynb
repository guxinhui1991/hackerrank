{
 "cells": [
  {
   "cell_type": "code",
   "execution_count": null,
   "metadata": {},
   "outputs": [],
   "source": [
    "class Solution:\n",
    "    def isBipartite(self, graph):\n",
    "        \"\"\"\n",
    "        :type graph: List[List[int]]\n",
    "        :rtype: bool\n",
    "        \"\"\"\n",
    "        "
   ]
  },
  {
   "cell_type": "code",
   "execution_count": 3,
   "metadata": {},
   "outputs": [],
   "source": [
    "from collections import defaultdict\n",
    "color = defaultdict(lambda: -1)"
   ]
  },
  {
   "cell_type": "code",
   "execution_count": 7,
   "metadata": {},
   "outputs": [],
   "source": [
    "def isBipartite(self, graph):\n",
    "    color = defaultdict(lambda: -1)\n",
    "    return all(self.dfs(graph, v, edges, 0, color) for v, edges in enumerate(graph) if color[v] == -1)\n",
    "\n",
    "def dfs(self, graph, v, edges, cur_color, color):\n",
    "    if color[v] != -1: return color[v] == cur_color\n",
    "    color[v] = cur_color\n",
    "    return all(self.dfs(graph, e, graph[e], int(not cur_color), color) for e in edges)"
   ]
  },
  {
   "cell_type": "code",
   "execution_count": null,
   "metadata": {},
   "outputs": [],
   "source": []
  },
  {
   "cell_type": "code",
   "execution_count": null,
   "metadata": {},
   "outputs": [],
   "source": []
  },
  {
   "cell_type": "code",
   "execution_count": 8,
   "metadata": {},
   "outputs": [],
   "source": [
    "def isBipartite(self, graph):\n",
    "    \"\"\"\n",
    "    :type graph: List[List[int]]\n",
    "    :rtype: bool\n",
    "    \"\"\"\n",
    "    \n",
    "    def bipatrComponent(v, color):\n",
    "        # Base case:\n",
    "        if v in colored:\n",
    "            return True if colored[v] == color else False\n",
    "                \n",
    "        # Recursive case:  \n",
    "        else:\n",
    "            colored[v] = color\n",
    "            for u in graph[v]:\n",
    "                if not bipatrComponent(u, (color+1)%2):\n",
    "                    return False\n",
    "            return True\n",
    "    \n",
    "    colored = {} # Similar to visited set, but also has color information\n",
    "    for v in range(len(graph)):\n",
    "        if v not in colored:\n",
    "            if bipatrComponent(v, 0) is False:\n",
    "                return False\n",
    "            \n",
    "    return True"
   ]
  },
  {
   "cell_type": "code",
   "execution_count": null,
   "metadata": {},
   "outputs": [],
   "source": []
  }
 ],
 "metadata": {
  "kernelspec": {
   "display_name": "Python 3",
   "language": "python",
   "name": "python3"
  },
  "language_info": {
   "codemirror_mode": {
    "name": "ipython",
    "version": 3
   },
   "file_extension": ".py",
   "mimetype": "text/x-python",
   "name": "python",
   "nbconvert_exporter": "python",
   "pygments_lexer": "ipython3",
   "version": "3.6.3"
  }
 },
 "nbformat": 4,
 "nbformat_minor": 2
}
