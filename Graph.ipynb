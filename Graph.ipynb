{
 "cells": [
  {
   "cell_type": "code",
   "execution_count": 1,
   "metadata": {},
   "outputs": [],
   "source": [
    "from collections import deque\n",
    "class Node:\n",
    "    def __init__(self, val):\n",
    "        self.val = val\n",
    "        self.edges = []\n",
    "\n",
    "    def __eq__(self, other):\n",
    "        return self.val == other.val\n",
    "\n",
    "    def __hash__(self):\n",
    "        return self.val\n",
    "\n",
    "\n",
    "class Graph:\n",
    "    def __init__(self, nodes=[]):\n",
    "        self.nodes = nodes\n",
    "\n",
    "    def add_node(self, val):\n",
    "        new_node = Node(val)\n",
    "        self.nodes.append(new_node)\n",
    "\n",
    "    def add_edge(self, node1, node2):\n",
    "        node1.edges.append(node2)\n",
    "        node2.edges.append(node1)\n",
    "\n",
    "    def bfs(self):\n",
    "        if not self.nodes:\n",
    "            return []\n",
    "        start = self.nodes[0]\n",
    "        visited, queue, result = set([start]), deque([start]), []\n",
    "        while queue:\n",
    "            node = queue.popleft()\n",
    "            result.append(node)\n",
    "            for nd in node.edges:\n",
    "                if nd not in visited:\n",
    "                    queue.append(nd)\n",
    "                    visited.add(nd)\n",
    "        return result\n",
    "\n",
    "    def dfs(self):\n",
    "        if not self.nodes:\n",
    "            return []\n",
    "        start = self.nodes[0]\n",
    "        visited, stack, result = set([start]), [start], []\n",
    "        while stack:\n",
    "            node = stack.pop()\n",
    "            result.append(node)\n",
    "            for nd in node.edges:\n",
    "                if nd not in visited:\n",
    "                    stack.append(nd)\n",
    "                    visited.add(nd)\n",
    "        return result\n"
   ]
  },
  {
   "cell_type": "code",
   "execution_count": null,
   "metadata": {},
   "outputs": [],
   "source": [
    "connections = Graph()\n",
    "connections.add_edge()\n",
    "\n"
   ]
  },
  {
   "cell_type": "code",
   "execution_count": 2,
   "metadata": {},
   "outputs": [
    {
     "name": "stdout",
     "output_type": "stream",
     "text": [
      "DFS\n",
      "5\n",
      "1\n",
      "8\n",
      "9\n",
      "10\n",
      "2\n",
      "3\n",
      "BFS\n",
      "5\n",
      "3\n",
      "1\n",
      "8\n",
      "2\n",
      "9\n",
      "10\n"
     ]
    }
   ],
   "source": [
    "\n",
    "\n",
    "graph = Graph()\n",
    "graph.add_node(5)\n",
    "graph.add_node(3)\n",
    "graph.add_node(8)\n",
    "graph.add_node(1)\n",
    "graph.add_node(9)\n",
    "graph.add_node(2)\n",
    "graph.add_node(10)\n",
    "\n",
    "#            2\n",
    "#           /\n",
    "# 5 - 3 - 8 -  9 - 10\n",
    "#  \\    /\n",
    "#     1\n",
    "\n",
    "graph.add_edge(graph.nodes[0], graph.nodes[1])\n",
    "graph.add_edge(graph.nodes[0], graph.nodes[3])\n",
    "graph.add_edge(graph.nodes[1], graph.nodes[2])\n",
    "graph.add_edge(graph.nodes[0], graph.nodes[1])\n",
    "graph.add_edge(graph.nodes[2], graph.nodes[3])\n",
    "graph.add_edge(graph.nodes[2], graph.nodes[5])\n",
    "graph.add_edge(graph.nodes[2], graph.nodes[4])\n",
    "graph.add_edge(graph.nodes[4], graph.nodes[6])\n",
    "\n",
    "\n",
    "dfs_result = graph.dfs()\n",
    "bfs_result = graph.bfs()\n",
    "print(\"DFS\")\n",
    "for i in range(len(dfs_result)):\n",
    "    print(dfs_result[i].val)\n",
    "print(\"BFS\")\n",
    "for i in range(len(bfs_result)):\n",
    "    print(bfs_result[i].val)"
   ]
  },
  {
   "cell_type": "code",
   "execution_count": null,
   "metadata": {},
   "outputs": [],
   "source": []
  }
 ],
 "metadata": {
  "kernelspec": {
   "display_name": "Python 3",
   "language": "python",
   "name": "python3"
  },
  "language_info": {
   "codemirror_mode": {
    "name": "ipython",
    "version": 3
   },
   "file_extension": ".py",
   "mimetype": "text/x-python",
   "name": "python",
   "nbconvert_exporter": "python",
   "pygments_lexer": "ipython3",
   "version": "3.6.3"
  }
 },
 "nbformat": 4,
 "nbformat_minor": 2
}
